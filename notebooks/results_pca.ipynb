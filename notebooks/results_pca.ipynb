{
 "cells": [
  {
   "cell_type": "code",
   "execution_count": null,
   "id": "23def423-93f3-41f1-bb92-b47cbca07bd8",
   "metadata": {},
   "outputs": [],
   "source": [
    "# %%\n",
    "\n",
    "import warnings\n",
    "import seaborn as sns\n",
    "import matplotlib.pyplot as plt\n",
    "import numpy as np\n",
    "import pandas as pd\n",
    "\n",
    "from scipy.stats import ttest_1samp, ttest_ind\n",
    "from scipy.stats import pearsonr\n",
    "\n",
    "from dieboldmariano import dm_test\n",
    "\n",
    "\n",
    "def warn(*args, **kwargs):\n",
    "    pass\n",
    "\n",
    "\n",
    "warnings.warn = warn"
   ]
  },
  {
   "cell_type": "code",
   "execution_count": null,
   "id": "874941a3-fdfa-4fa4-b38f-6686fcd54005",
   "metadata": {},
   "outputs": [],
   "source": [
    "# %%\n",
    "\n",
    "tick = \"1d\"\n",
    "\n",
    "df_bars = pd.read_csv(\n",
    "    f\"../data/ohlc_{tick}_gateio.csv\", index_col=0, parse_dates=True)\n",
    "df_close = df_bars.filter(axis=\"columns\", like=\"close\")\n",
    "df_close.columns = [x.split(\"_\")[0] for x in df_close.columns]\n",
    "\n",
    "tick = \"24h\"\n",
    "df_close = df_close.resample(tick).last()"
   ]
  },
  {
   "cell_type": "code",
   "execution_count": null,
   "id": "229992e8-9cac-45ee-a258-4bfcb432b651",
   "metadata": {},
   "outputs": [],
   "source": [
    "# %%\n",
    "\n",
    "n_train_days = 120\n",
    "df_ica_pred = pd.read_csv(\n",
    "    f\"../data/ica_arma_predictions_{tick}_{n_train_days}D.csv\",\n",
    "    index_col=0,\n",
    "    parse_dates=True)\n",
    "\n",
    "df_arima_pred = pd.read_csv(\n",
    "    f\"../data/arma_predictions_{tick}_{n_train_days}D.csv\",\n",
    "    index_col=0,\n",
    "    parse_dates=True)\n",
    "\n",
    "df_pca_pred = pd.read_csv(\n",
    "    f\"../data/pca_arma_predictions_{tick}_{n_train_days}D.csv\",\n",
    "    index_col=0,\n",
    "    parse_dates=True)#.shift(-1).dropna()\n",
    "\n",
    "df_ret = df_close.pct_change().fillna(0).loc[df_pca_pred.index, df_pca_pred.columns].unstack()\n",
    "\n",
    "df_pca_pred = df_pca_pred.iloc[:-1].unstack()\n",
    "df_ica_pred = df_ica_pred.iloc[1:].unstack()\n",
    "df_arima_pred = df_arima_pred.unstack()\n",
    "\n",
    "df_ret = df_ret.reindex(df_ica_pred.index)\n",
    "\n",
    "# scale ica preds with scalar\n",
    "df_ica_pred *= df_pca_pred.var() / df_ica_pred.var()"
   ]
  },
  {
   "cell_type": "code",
   "execution_count": null,
   "id": "2d84fa6c-4e73-418e-a579-30ad1e17a0b9",
   "metadata": {},
   "outputs": [],
   "source": [
    "#%%\n",
    "\n",
    "#naive_forecast = df_ret.reset_index().sample(frac=1.0, replace=True)[0].to_frame().set_index(df_ret.index)[0]\n",
    "naive_forecast = df_ret.shift().fillna(0)"
   ]
  },
  {
   "cell_type": "markdown",
   "id": "11abef0d-4d30-4243-9a59-a9f349adaf62",
   "metadata": {},
   "source": [
    "# %% [markdown]\n",
    "\n",
    "  # Empirical Results\n",
    "  ## R (Pearson Correlation)\n",
    " - **Pearson Correlation** of ica_arima **better** than just arima"
   ]
  },
  {
   "cell_type": "code",
   "execution_count": null,
   "id": "9ab27102-43d0-48ed-95bf-42a96e67dbb9",
   "metadata": {},
   "outputs": [
    {
     "data": {
      "text/plain": [
       "(PearsonRResult(statistic=0.012862153541873964, pvalue=0.0711120828233069),\n",
       " PearsonRResult(statistic=0.029717405436614178, pvalue=0.00034776602979055165),\n",
       " PearsonRResult(statistic=-0.03729243853196822, pvalue=0.9999896096720782))"
      ]
     },
     "execution_count": 5,
     "metadata": {},
     "output_type": "execute_result"
    }
   ],
   "source": [
    "# %%\n",
    "\n",
    "pearsonr(df_ret, df_ica_pred, alternative=\"greater\"), \\\n",
    "    pearsonr(df_ret, df_pca_pred, alternative=\"greater\"), \\\n",
    "        pearsonr(df_ret, naive_forecast, alternative=\"greater\")"
   ]
  },
  {
   "cell_type": "markdown",
   "id": "836602ac-6b47-407e-8915-f4772bc4c6a6",
   "metadata": {},
   "source": [
    "# %% [markdown]\n",
    "\n",
    " ## Directional accuracy\n",
    " - Diebold Mariano test shows **Directional Accuarcy** (correct sign of returns predicted) for ica_arima significantly **better** than arima"
   ]
  },
  {
   "cell_type": "code",
   "execution_count": null,
   "id": "f6e9a7a1-0983-4ada-b3e0-61bdf0ce2fe7",
   "metadata": {},
   "outputs": [
    {
     "name": "stdout",
     "output_type": "stream",
     "text": [
      "Diebold Mariano test statistic, p-value: (-1.5766232830513518, 0.05745326445920368)\n"
     ]
    }
   ],
   "source": [
    "#%%\n",
    "\n",
    "print(\"Diebold Mariano test statistic, p-value:\",\n",
    "dm_test(\n",
    "    np.sign(df_ret).values,\n",
    "    np.sign(df_ica_pred).values,\n",
    "    np.sign(df_pca_pred).values,\n",
    "    loss=lambda a, b: abs(a - b),\n",
    "    one_sided=True))"
   ]
  },
  {
   "cell_type": "markdown",
   "id": "9233398a-709f-4f58-87d3-91812bea8528",
   "metadata": {},
   "source": [
    "# %% [markdown]\n",
    "\n",
    " ## Mean Absolute Error\n",
    " - Diebold Mariano test shows **Mean Absolute Error** of ica_arima predicitons significantly **better** than arima"
   ]
  },
  {
   "cell_type": "code",
   "execution_count": null,
   "id": "2d0fa975-19ce-4e8f-8ac1-b3f53a8ede54",
   "metadata": {},
   "outputs": [
    {
     "name": "stdout",
     "output_type": "stream",
     "text": [
      "Diebold Mariano test statistic, p-value: (-9.967741600362901, 1.2786319782669299e-23)\n"
     ]
    }
   ],
   "source": [
    "#%%\n",
    "\n",
    "print(\"Diebold Mariano test statistic, p-value:\",\n",
    "dm_test(\n",
    "    df_ret.values,\n",
    "    df_ica_pred.values,\n",
    "    df_pca_pred.values,\n",
    "    loss=lambda a, b: abs(a - b),\n",
    "    one_sided=True))"
   ]
  },
  {
   "cell_type": "markdown",
   "id": "06fa744f-42de-4e5c-98de-541ac69e2fb0",
   "metadata": {},
   "source": [
    "# %% [markdown]\n",
    "\n",
    " ## Mean Squared Error\n",
    " - Diebold Mariano test shows **Mean Squared Error** of ica_arima predicitons significantly **better** than arima"
   ]
  },
  {
   "cell_type": "code",
   "execution_count": null,
   "id": "d1bec8fb-648f-416b-ac29-69fc8d31d16d",
   "metadata": {},
   "outputs": [
    {
     "name": "stdout",
     "output_type": "stream",
     "text": [
      "Diebold Mariano test statistic, p-value: (-3.797172425808174, 7.351027632845069e-05)\n"
     ]
    }
   ],
   "source": [
    "#%%\n",
    "\n",
    "print(\"Diebold Mariano test statistic, p-value:\",\n",
    "dm_test(\n",
    "    df_ret.values,\n",
    "    df_ica_pred.values,\n",
    "    df_pca_pred.values,\n",
    "    loss=lambda a, b: (a - b)**2,\n",
    "    one_sided=True))"
   ]
  },
  {
   "cell_type": "markdown",
   "id": "49b51bbe-074d-4d84-8641-b2483892ab2d",
   "metadata": {},
   "source": [
    "# %% [markdown]\n",
    "\n",
    " ## Comaparison of ARIMA orders\n",
    " - for just ARIMA the AutoARIMA algorithm determined Brownian Noise with order (0, 1, 0) to be the best model of the process\n",
    " way more often than for ica + ARIMA, indicating application of ICA improved the Signal to Noise Ratio"
   ]
  },
  {
   "cell_type": "code",
   "execution_count": null,
   "id": "8004b8f0-f04a-4d56-b755-4ab0230611f7",
   "metadata": {},
   "outputs": [
    {
     "data": {
      "image/png": "[encoded data removed]",
      "text/plain": [
       "<Figure size 1500x500 with 1 Axes>"
      ]
     },
     "metadata": {},
     "output_type": "display_data"
    }
   ],
   "source": [
    "#%%\n",
    "\n",
    "n_train_days = 120\n",
    "tick = \"24h\"\n",
    "ica_orders = pd.read_csv(f\"../data/ica_arma_orders_{tick}_{n_train_days}D.csv\", index_col=0)\n",
    "pca_arima_orders = pd.read_csv(f\"../data/pca_arma_orders_{tick}_{n_train_days}D.csv\", index_col=0)\n",
    "arima_orders = pd.read_csv(f\"../data/arma_orders_{tick}_{n_train_days}D.csv\", index_col=0)\n",
    "orders = pd.concat((\n",
    "    ica_orders.unstack().value_counts().rename(\"ica_arima_orders\"),\n",
    "    pca_arima_orders.unstack().value_counts().rename(\"pca_arima_orders\"),\n",
    "    arima_orders.unstack().value_counts().rename(\"arima_orders\")\n",
    "    ), axis=1, join=\"outer\")\n",
    "\n",
    "orders.iloc[np.argsort(orders.sum(axis=1))[:-15:-1]].plot.bar(figsize=(15, 5))\n",
    "#orders.iloc[np.argsort(orders[\"arima_orders\"].values)[:-30:-1]].plot.bar(figsize=(15, 5))\n",
    "#orders.iloc[np.argsort(orders.sum(axis=1))[::-1]].plot.bar(figsize=(15, 5))\n",
    "plt.xlabel(\"ARIMA order (p, d, q)\")\n",
    "plt.ylabel(\"count\")\n",
    "plt.show();"
   ]
  },
  {
   "cell_type": "code",
   "execution_count": null,
   "id": "2f3cc8eb-1803-4309-b583-bc63344b49a2",
   "metadata": {},
   "outputs": [
    {
     "data": {
      "text/plain": [
       "Ttest_indResult(statistic=1.6492074474976353, pvalue=0.04955860293310294)"
      ]
     },
     "execution_count": 10,
     "metadata": {},
     "output_type": "execute_result"
    }
   ],
   "source": [
    "#%%\n",
    "\n",
    "ttest_ind(\n",
    "    (np.sign(df_ret) == np.sign(df_ica_pred)),\n",
    "    (np.sign(df_ret) == np.sign(df_pca_pred)),\n",
    "    alternative=\"greater\")"
   ]
  },
  {
   "cell_type": "code",
   "execution_count": null,
   "id": "a0db068c-7452-4967-8428-aa41fe188be9",
   "metadata": {},
   "outputs": [
    {
     "data": {
      "text/plain": [
       "Ttest_indResult(statistic=-0.09546797875449688, pvalue=0.461971928989915)"
      ]
     },
     "execution_count": 11,
     "metadata": {},
     "output_type": "execute_result"
    }
   ],
   "source": [
    "#%%\n",
    "\n",
    "ttest_ind(\n",
    "    ((df_ret - df_ica_pred)**2).values,\n",
    "    ((df_ret - df_pca_pred)**2).values,\n",
    "    alternative=\"less\")"
   ]
  },
  {
   "cell_type": "code",
   "execution_count": null,
   "id": "9fe9c335-6f39-4d84-bc6a-8cbd7cfa8609",
   "metadata": {},
   "outputs": [
    {
     "data": {
      "text/plain": [
       "Ttest_indResult(statistic=-1.8355327323098922, pvalue=0.03321909589210676)"
      ]
     },
     "execution_count": 12,
     "metadata": {},
     "output_type": "execute_result"
    }
   ],
   "source": [
    "#%%\n",
    "\n",
    "ttest_ind(\n",
    "    (df_ica_pred - df_ret).abs().values, \n",
    "    (df_pca_pred - df_ret).abs().values,\n",
    "    alternative=\"less\")"
   ]
  }
 ],
 "metadata": {
  "language_info": {
   "codemirror_mode": {
    "name": "ipython",
    "version": 3
   },
   "file_extension": ".py",
   "mimetype": "text/x-python",
   "name": "python",
   "nbconvert_exporter": "python",
   "pygments_lexer": "ipython3",
   "version": 3
  }
 },
 "nbformat": 4,
 "nbformat_minor": 2
}
