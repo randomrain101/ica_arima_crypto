{
 "cells": [
  {
   "cell_type": "code",
   "execution_count": null,
   "id": "87635b1e-816d-406e-ab97-2efbbe044ffa",
   "metadata": {},
   "outputs": [],
   "source": [
    "# %%\n",
    "\n",
    "import warnings\n",
    "import seaborn as sns\n",
    "import matplotlib.pyplot as plt\n",
    "import numpy as np\n",
    "import pandas as pd\n",
    "\n",
    "from scipy.stats import normaltest"
   ]
  },
  {
   "cell_type": "code",
   "execution_count": null,
   "id": "b1b02bcc-f940-4f8b-ab4f-d4934d4e578a",
   "metadata": {},
   "outputs": [],
   "source": [
    "# %%\n",
    "\n",
    "tick = \"1d\"\n",
    "\n",
    "df_bars = pd.read_csv(\n",
    "    f\"../data/ohlc_{tick}_gateio.csv\", index_col=0, parse_dates=True)\n",
    "df_close = df_bars.filter(axis=\"columns\", like=\"close\")\n",
    "df_close.columns = [x.split(\"_\")[0] for x in df_close.columns]\n",
    "\n",
    "tick = \"24h\"\n",
    "df_close = df_close.resample(tick).last()"
   ]
  },
  {
   "cell_type": "code",
   "execution_count": null,
   "id": "c1669f0a-a394-4e32-bf97-48550fd27589",
   "metadata": {},
   "outputs": [
    {
     "data": {
      "text/html": [
       "<div>\n",
       "<style scoped>\n",
       "    .dataframe tbody tr th:only-of-type {\n",
       "        vertical-align: middle;\n",
       "    }\n",
       "\n",
       "    .dataframe tbody tr th {\n",
       "        vertical-align: top;\n",
       "    }\n",
       "\n",
       "    .dataframe thead th {\n",
       "        text-align: right;\n",
       "    }\n",
       "</style>\n",
       "<table border=\"1\" class=\"dataframe\">\n",
       "  <thead>\n",
       "    <tr style=\"text-align: right;\">\n",
       "      <th></th>\n",
       "      <th>BTC/USDT</th>\n",
       "      <th>ETH/USDT</th>\n",
       "      <th>XRP/USDT</th>\n",
       "      <th>LTC/USDT</th>\n",
       "      <th>LINK/USDT</th>\n",
       "      <th>ADA/USDT</th>\n",
       "      <th>DOGE/USDT</th>\n",
       "      <th>TRX/USDT</th>\n",
       "      <th>BCH/USDT</th>\n",
       "      <th>XMR/USDT</th>\n",
       "      <th>EOS/USDT</th>\n",
       "      <th>XLM/USDT</th>\n",
       "    </tr>\n",
       "  </thead>\n",
       "  <tbody>\n",
       "    <tr>\n",
       "      <th>test_statistic</th>\n",
       "      <td>4.412103e+02</td>\n",
       "      <td>3.477485e+02</td>\n",
       "      <td>1.314514e+03</td>\n",
       "      <td>2.922173e+02</td>\n",
       "      <td>4.408517e+02</td>\n",
       "      <td>3.092102e+02</td>\n",
       "      <td>4956.766618</td>\n",
       "      <td>3.579324e+02</td>\n",
       "      <td>7.217828e+02</td>\n",
       "      <td>4.162422e+02</td>\n",
       "      <td>5.305832e+02</td>\n",
       "      <td>1.371556e+03</td>\n",
       "    </tr>\n",
       "    <tr>\n",
       "      <th>p_value</th>\n",
       "      <td>1.557397e-96</td>\n",
       "      <td>3.071621e-76</td>\n",
       "      <td>3.604752e-286</td>\n",
       "      <td>3.514192e-64</td>\n",
       "      <td>1.863258e-96</td>\n",
       "      <td>7.175628e-68</td>\n",
       "      <td>0.000000</td>\n",
       "      <td>1.887834e-78</td>\n",
       "      <td>1.848686e-157</td>\n",
       "      <td>4.112933e-91</td>\n",
       "      <td>6.099943e-116</td>\n",
       "      <td>1.480757e-298</td>\n",
       "    </tr>\n",
       "  </tbody>\n",
       "</table>\n",
       "</div>"
      ],
      "text/plain": [
       "                    BTC/USDT      ETH/USDT       XRP/USDT      LTC/USDT  \\\n",
       "test_statistic  4.412103e+02  3.477485e+02   1.314514e+03  2.922173e+02   \n",
       "p_value         1.557397e-96  3.071621e-76  3.604752e-286  3.514192e-64   \n",
       "\n",
       "                   LINK/USDT      ADA/USDT    DOGE/USDT      TRX/USDT  \\\n",
       "test_statistic  4.408517e+02  3.092102e+02  4956.766618  3.579324e+02   \n",
       "p_value         1.863258e-96  7.175628e-68     0.000000  1.887834e-78   \n",
       "\n",
       "                     BCH/USDT      XMR/USDT       EOS/USDT       XLM/USDT  \n",
       "test_statistic   7.217828e+02  4.162422e+02   5.305832e+02   1.371556e+03  \n",
       "p_value         1.848686e-157  4.112933e-91  6.099943e-116  1.480757e-298  "
      ]
     },
     "execution_count": 3,
     "metadata": {},
     "output_type": "execute_result"
    }
   ],
   "source": [
    "#%%\n",
    "\n",
    "#\n",
    "# --- returns normality test ---\n",
    "#\n",
    "# https://docs.scipy.org/doc/scipy/reference/generated/scipy.stats.normaltest.html\n",
    "\n",
    "df_ret = df_close.pct_change().iloc[1:]\n",
    "\n",
    "# test individual series\n",
    "df_ret.apply(normaltest, axis=0).set_index(pd.Index([\"test_statistic\", \"p_value\"]))"
   ]
  },
  {
   "cell_type": "code",
   "execution_count": null,
   "id": "df424bf1-cbf5-4525-a01b-edc5d6bcb93d",
   "metadata": {},
   "outputs": [
    {
     "data": {
      "text/plain": [
       "NormaltestResult(statistic=43090.78067484664, pvalue=0.0)"
      ]
     },
     "execution_count": 4,
     "metadata": {},
     "output_type": "execute_result"
    }
   ],
   "source": [
    "#%%\n",
    "\n",
    "# test concatenated series\n",
    "normaltest(df_ret.unstack())"
   ]
  },
  {
   "cell_type": "code",
   "execution_count": null,
   "id": "a110d196-1a6a-4107-9dde-e98bd14dae52",
   "metadata": {},
   "outputs": [
    {
     "data": {
      "text/html": [
       "<div>\n",
       "<style scoped>\n",
       "    .dataframe tbody tr th:only-of-type {\n",
       "        vertical-align: middle;\n",
       "    }\n",
       "\n",
       "    .dataframe tbody tr th {\n",
       "        vertical-align: top;\n",
       "    }\n",
       "\n",
       "    .dataframe thead th {\n",
       "        text-align: right;\n",
       "    }\n",
       "</style>\n",
       "<table border=\"1\" class=\"dataframe\">\n",
       "  <thead>\n",
       "    <tr style=\"text-align: right;\">\n",
       "      <th></th>\n",
       "      <th>BTC/USDT</th>\n",
       "      <th>ETH/USDT</th>\n",
       "      <th>XRP/USDT</th>\n",
       "      <th>LTC/USDT</th>\n",
       "      <th>LINK/USDT</th>\n",
       "      <th>ADA/USDT</th>\n",
       "      <th>DOGE/USDT</th>\n",
       "      <th>TRX/USDT</th>\n",
       "      <th>BCH/USDT</th>\n",
       "      <th>XMR/USDT</th>\n",
       "      <th>EOS/USDT</th>\n",
       "      <th>XLM/USDT</th>\n",
       "    </tr>\n",
       "  </thead>\n",
       "  <tbody>\n",
       "    <tr>\n",
       "      <th>test_statistic</th>\n",
       "      <td>9.039374e+02</td>\n",
       "      <td>7.838862e+02</td>\n",
       "      <td>6.068682e+02</td>\n",
       "      <td>5.290780e+02</td>\n",
       "      <td>4.020671e+02</td>\n",
       "      <td>3.149803e+02</td>\n",
       "      <td>2634.135745</td>\n",
       "      <td>5.997110e+02</td>\n",
       "      <td>5.075535e+02</td>\n",
       "      <td>8.689283e+02</td>\n",
       "      <td>5.032365e+02</td>\n",
       "      <td>6.466717e+02</td>\n",
       "    </tr>\n",
       "    <tr>\n",
       "      <th>p_value</th>\n",
       "      <td>5.157973e-197</td>\n",
       "      <td>6.043230e-171</td>\n",
       "      <td>1.660482e-132</td>\n",
       "      <td>1.294693e-115</td>\n",
       "      <td>4.923023e-88</td>\n",
       "      <td>4.007624e-69</td>\n",
       "      <td>0.000000</td>\n",
       "      <td>5.948453e-131</td>\n",
       "      <td>6.111621e-111</td>\n",
       "      <td>2.063578e-189</td>\n",
       "      <td>5.291457e-110</td>\n",
       "      <td>3.776023e-141</td>\n",
       "    </tr>\n",
       "  </tbody>\n",
       "</table>\n",
       "</div>"
      ],
      "text/plain": [
       "                     BTC/USDT       ETH/USDT       XRP/USDT       LTC/USDT  \\\n",
       "test_statistic   9.039374e+02   7.838862e+02   6.068682e+02   5.290780e+02   \n",
       "p_value         5.157973e-197  6.043230e-171  1.660482e-132  1.294693e-115   \n",
       "\n",
       "                   LINK/USDT      ADA/USDT    DOGE/USDT       TRX/USDT  \\\n",
       "test_statistic  4.020671e+02  3.149803e+02  2634.135745   5.997110e+02   \n",
       "p_value         4.923023e-88  4.007624e-69     0.000000  5.948453e-131   \n",
       "\n",
       "                     BCH/USDT       XMR/USDT       EOS/USDT       XLM/USDT  \n",
       "test_statistic   5.075535e+02   8.689283e+02   5.032365e+02   6.466717e+02  \n",
       "p_value         6.111621e-111  2.063578e-189  5.291457e-110  3.776023e-141  "
      ]
     },
     "execution_count": 5,
     "metadata": {},
     "output_type": "execute_result"
    }
   ],
   "source": [
    "#%%\n",
    "\n",
    "#\n",
    "# --- log returns normality test ---\n",
    "#\n",
    "df_log_ret = np.log(df_close).diff().iloc[1:]\n",
    "\n",
    "# test individual series\n",
    "df_log_ret.apply(normaltest, axis=0).set_index(pd.Index([\"test_statistic\", \"p_value\"]))"
   ]
  },
  {
   "cell_type": "code",
   "execution_count": null,
   "id": "0848890a-3c3a-4833-af38-03d93af47a0e",
   "metadata": {},
   "outputs": [
    {
     "data": {
      "text/plain": [
       "NormaltestResult(statistic=9927.249628170144, pvalue=0.0)"
      ]
     },
     "execution_count": 6,
     "metadata": {},
     "output_type": "execute_result"
    }
   ],
   "source": [
    "#%%\n",
    "\n",
    "# test concatenated series\n",
    "normaltest(df_log_ret.unstack())"
   ]
  }
 ],
 "metadata": {
  "language_info": {
   "codemirror_mode": {
    "name": "ipython",
    "version": 3
   },
   "file_extension": ".py",
   "mimetype": "text/x-python",
   "name": "python",
   "nbconvert_exporter": "python",
   "pygments_lexer": "ipython3",
   "version": 3
  }
 },
 "nbformat": 4,
 "nbformat_minor": 2
}
