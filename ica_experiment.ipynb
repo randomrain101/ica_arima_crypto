{
 "cells": [
  {
   "cell_type": "code",
   "execution_count": null,
   "metadata": {},
   "outputs": [],
   "source": [
    "import seaborn as sns\n",
    "import matplotlib.pyplot as plt\n",
    "import numpy as np\n",
    "import pandas as pd\n",
    "from joblib import Parallel, delayed\n",
    "from pmdarima.arima import AutoARIMA, ARIMA\n",
    "from scipy.stats import ttest_1samp, ttest_ind\n",
    "from antropy import detrended_fluctuation\n",
    "from tqdm import tqdm\n",
    "\n",
    "def warn(*args, **kwargs):\n",
    "    pass\n",
    "import warnings\n",
    "warnings.warn = warn\n",
    "\n",
    "from sklearn.preprocessing import StandardScaler\n",
    "from sklearn.decomposition import FastICA\n",
    "from sklearn.model_selection import TimeSeriesSplit\n",
    ""
   ]
  },
  {
   "cell_type": "code",
   "execution_count": null,
   "metadata": {},
   "outputs": [],
   "source": [
    "tick = \"15m\"\n",
    "\n",
    "df_bars = pd.read_csv(\n",
    "    f\"../data/ohlc_{tick}_gateio.csv\", index_col=0, parse_dates=True)\n",
    "df_close = df_bars.filter(axis=\"columns\", like=\"close\")\n",
    "df_close.columns = [x.split(\"_\")[0] for x in df_close.columns]\n",
    "\n",
    "tick = \"24h\"\n",
    "df_close = df_close.resample(tick).last()\n",
    ""
   ]
  },
  {
   "cell_type": "code",
   "execution_count": null,
   "metadata": {},
   "outputs": [],
   "source": [
    "n_test = 2\n",
    "df_temp = df_close.loc[\"2019-01\":\"2019-04\"]\n",
    "sc = StandardScaler().fit(df_temp.iloc[:-n_test-1])\n",
    "df_close_norm = pd.DataFrame(sc.transform(df_temp.iloc[:-n_test-1]), index=df_temp.index[:-n_test-1], columns=df_temp.columns)\n",
    "ica = FastICA(max_iter=5000, algorithm=\"deflation\", fun=\"exp\").fit(df_close_norm)\n",
    ""
   ]
  },
  {
   "cell_type": "code",
   "execution_count": null,
   "metadata": {},
   "outputs": [],
   "source": [
    "df_components = pd.DataFrame(ica.components_, index=df_close.columns)\n",
    ""
   ]
  },
  {
   "cell_type": "code",
   "execution_count": null,
   "metadata": {},
   "outputs": [],
   "source": [
    "plt.imshow(df_components)\n",
    ""
   ]
  },
  {
   "cell_type": "code",
   "execution_count": null,
   "metadata": {},
   "outputs": [],
   "source": [
    "sns.pairplot(df_close_norm)\n",
    ""
   ]
  },
  {
   "cell_type": "code",
   "execution_count": null,
   "metadata": {},
   "outputs": [],
   "source": [
    "df_close_trans = pd.DataFrame(ica.transform(df_close_norm.iloc[:-n_test]), index=df_close_norm.iloc[:-n_test].index)\n",
    ""
   ]
  },
  {
   "cell_type": "code",
   "execution_count": null,
   "metadata": {},
   "outputs": [],
   "source": [
    "sns.pairplot(df_close_trans)\n",
    ""
   ]
  },
  {
   "cell_type": "code",
   "execution_count": null,
   "metadata": {},
   "outputs": [],
   "source": [
    "df_close_norm.ewm(span=7).mean().plot(figsize=(10, 5))\n",
    ""
   ]
  },
  {
   "cell_type": "code",
   "execution_count": null,
   "metadata": {},
   "outputs": [],
   "source": [
    "pred_list = []\n",
    "for c in df_close_trans.columns:\n",
    "    s = df_close_trans[c]\n",
    "    aa = AutoARIMA(\n",
    "        max_p=6, \n",
    "        max_q=6, \n",
    "        seasonal=False).fit(s)\n",
    "    order = aa.model_.order\n",
    "    s_pred = aa.predict(n_test)\n",
    "    pred_list.append(s_pred)\n",
    "    print(order)\n",
    "    plt.plot(s_pred)\n",
    "    s.plot(figsize=(10, 5), grid=True)\n",
    "    plt.show()\n",
    ""
   ]
  },
  {
   "cell_type": "code",
   "execution_count": null,
   "metadata": {},
   "outputs": [],
   "source": [
    "df_pred = pd.DataFrame(\n",
    "    sc.inverse_transform(ica.inverse_transform(pd.concat(pred_list, axis=1))), \n",
    "    index=pred_list[0].index, \n",
    "    columns=df_close_norm.columns)\n",
    ""
   ]
  },
  {
   "cell_type": "code",
   "execution_count": null,
   "metadata": {},
   "outputs": [],
   "source": [
    "for c in df_pred.columns:\n",
    "    df_close[c].reindex(df_close_norm.index).plot(grid=True)\n",
    "    df_pred[c].plot(grid=True)\n",
    "    plt.show()\n",
    ""
   ]
  },
  {
   "cell_type": "code",
   "execution_count": null,
   "metadata": {},
   "outputs": [],
   "source": [
    ""
   ]
  }
 ],
 "nbformat": 4,
 "nbformat_minor": 2,
 "metadata": {
  "language_info": {
   "codemirror_mode": {
    "name": "ipython",
    "version": 3
   },
   "file_extension": ".py",
   "mimetype": "text/x-python",
   "name": "python",
   "nbconvert_exporter": "python",
   "pygments_lexer": "ipython3",
   "version": 3
  }
 }
}