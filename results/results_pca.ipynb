{
 "cells": [
  {
   "cell_type": "code",
   "execution_count": null,
   "id": "0eb82c4b-7302-4797-8822-c06999602b84",
   "metadata": {},
   "outputs": [],
   "source": [
    "# %%\n",
    "\n",
    "import warnings\n",
    "import seaborn as sns\n",
    "import matplotlib.pyplot as plt\n",
    "import numpy as np\n",
    "import pandas as pd\n",
    "\n",
    "from scipy.stats import ttest_1samp, ttest_ind\n",
    "from scipy.stats import pearsonr\n",
    "\n",
    "from dieboldmariano import dm_test\n",
    "\n",
    "from sklearn.metrics import r2_score\n",
    "from sklearn.metrics import cohen_kappa_score\n",
    "\n",
    "\n",
    "def warn(*args, **kwargs):\n",
    "    pass\n",
    "\n",
    "\n",
    "warnings.warn = warn"
   ]
  },
  {
   "cell_type": "code",
   "execution_count": null,
   "id": "afd6fe3c-6b16-44ef-925e-ad23344d53c7",
   "metadata": {},
   "outputs": [],
   "source": [
    "# %%\n",
    "\n",
    "tick = \"1d\"\n",
    "\n",
    "df_bars = pd.read_csv(\n",
    "    f\"../data/ohlc_{tick}_gateio.csv\", index_col=0, parse_dates=True)\n",
    "df_close = df_bars.filter(axis=\"columns\", like=\"close\")\n",
    "df_close.columns = [x.split(\"_\")[0] for x in df_close.columns]\n",
    "\n",
    "tick = \"24h\"\n",
    "df_close = df_close.resample(tick).last()"
   ]
  },
  {
   "cell_type": "code",
   "execution_count": null,
   "id": "d5f2f863-de7c-4cb8-9dfc-025a9a57057c",
   "metadata": {},
   "outputs": [],
   "source": [
    "# %%\n",
    "\n",
    "n_train_days = 120\n",
    "df_ica_pred = pd.read_csv(\n",
    "    f\"../data/ica_arma_predictions_{tick}_{n_train_days}D.csv\",\n",
    "    index_col=0,\n",
    "    parse_dates=True)\n",
    "\n",
    "df_arima_pred = pd.read_csv(\n",
    "    f\"../data/arma_predictions_{tick}_{n_train_days}D.csv\",\n",
    "    index_col=0,\n",
    "    parse_dates=True)\n",
    "\n",
    "df_pca_pred = pd.read_csv(\n",
    "    f\"../data/pca_arma_predictions_{tick}_{n_train_days}D.csv\",\n",
    "    index_col=0,\n",
    "    parse_dates=True)#.shift(-1).dropna()\n",
    "\n",
    "df_ret = df_close.pct_change().fillna(0).loc[df_pca_pred.index, df_pca_pred.columns].unstack()\n",
    "\n",
    "df_pca_pred = df_pca_pred.iloc[:-1].unstack()\n",
    "df_ica_pred = df_ica_pred.iloc[1:].unstack()\n",
    "df_arima_pred = df_arima_pred.unstack()\n",
    "\n",
    "df_ret = df_ret.reindex(df_ica_pred.index)\n",
    "\n",
    "# scale ica preds with scalar\n",
    "df_ica_pred *= df_pca_pred.var() / df_ica_pred.var()"
   ]
  },
  {
   "cell_type": "code",
   "execution_count": null,
   "id": "8ec9df72-e2d1-4cd9-92b8-778f8ee8140a",
   "metadata": {},
   "outputs": [],
   "source": [
    "#%%\n",
    "\n",
    "#naive_forecast = df_ret.reset_index().sample(frac=1.0, replace=True)[0].to_frame().set_index(df_ret.index)[0]\n",
    "naive_forecast = df_ret.shift().fillna(0)"
   ]
  },
  {
   "cell_type": "markdown",
   "id": "f296ea29-0e4b-4310-891f-32b6371df19f",
   "metadata": {},
   "source": [
    "# %% [markdown]\n",
    "\n",
    "  # Empirical Results"
   ]
  },
  {
   "cell_type": "markdown",
   "id": "3e802000-5580-4b42-b877-6f4370f7e836",
   "metadata": {},
   "source": [
    "# %% [markdown]\n",
    "\n",
    " ## Directional accuracy\n",
    " - Diebold Mariano test shows **Directional Accuarcy** (correct sign of returns predicted) for ica_arima significantly **better** than pca + arima"
   ]
  },
  {
   "cell_type": "code",
   "execution_count": null,
   "id": "d13fe87a-a570-4d07-984a-ae43088e8563",
   "metadata": {},
   "outputs": [
    {
     "name": "stdout",
     "output_type": "stream",
     "text": [
      "Diebold Mariano test statistic, p-value: (np.float64(-1.5766232830513518), np.float64(0.05745326445920368))\n"
     ]
    }
   ],
   "source": [
    "#%%\n",
    "\n",
    "print(\"Diebold Mariano test statistic, p-value:\",\n",
    "dm_test(\n",
    "    np.sign(df_ret).values,\n",
    "    np.sign(df_ica_pred).values,\n",
    "    np.sign(df_pca_pred).values,\n",
    "    loss=lambda a, b: abs(a - b),\n",
    "    one_sided=True))"
   ]
  },
  {
   "cell_type": "code",
   "execution_count": null,
   "id": "a6c37b2d-6feb-470c-ae2d-65262208a65c",
   "metadata": {},
   "outputs": [
    {
     "name": "stdout",
     "output_type": "stream",
     "text": [
      "Cohen's Kappa - ICA ARIMA: 0.0402\n",
      "Cohen's Kappa - PCA ARIMA: 0.0231\n",
      "Cohen's Kappa - Naive Forecast: -0.0976\n"
     ]
    }
   ],
   "source": [
    "#%%\n",
    "\n",
    "# Convert continuous predictions to directional predictions (+1 for positive, -1 for negative)\n",
    "actual_direction = np.sign(df_ret).values\n",
    "ica_direction = np.sign(df_ica_pred).values\n",
    "pca_direction = np.sign(df_pca_pred).values\n",
    "naive_direction = np.sign(naive_forecast).values\n",
    "\n",
    "# Calculate Cohen's Kappa for all models\n",
    "ica_kappa = cohen_kappa_score(actual_direction, ica_direction)\n",
    "pca_kappa = cohen_kappa_score(actual_direction, pca_direction)\n",
    "naive_kappa = cohen_kappa_score(actual_direction, naive_direction)\n",
    "\n",
    "print(f\"Cohen's Kappa - ICA ARIMA: {ica_kappa:.4f}\")\n",
    "print(f\"Cohen's Kappa - PCA ARIMA: {pca_kappa:.4f}\")\n",
    "print(f\"Cohen's Kappa - Naive Forecast: {naive_kappa:.4f}\")"
   ]
  },
  {
   "cell_type": "code",
   "execution_count": null,
   "id": "3c5e0567-3cf9-4fe8-ab7f-d941488019b4",
   "metadata": {},
   "outputs": [
    {
     "name": "stdout",
     "output_type": "stream",
     "text": [
      "ICA ARIMA Directional Error: 0.4781\n",
      "PCA ARIMA Directional Error: 0.4883\n",
      "Naive Forecast Directional Error: 0.5484\n"
     ]
    }
   ],
   "source": [
    "#%%\n",
    "\n",
    "ica_directional_error = np.abs(np.sign(df_ret).values - np.sign(df_ica_pred).values).sum() / (2 * len(df_ret))\n",
    "print(f\"ICA ARIMA Directional Error: {ica_directional_error:.4f}\")\n",
    "\n",
    "pca_directional_error = np.abs(np.sign(df_ret).values - np.sign(df_pca_pred).values).sum() / (2 * len(df_ret))\n",
    "print(f\"PCA ARIMA Directional Error: {pca_directional_error:.4f}\")\n",
    "\n",
    "naive_directional_error = np.abs(np.sign(df_ret).values - np.sign(naive_forecast).values).sum() / (2 * len(df_ret))\n",
    "print(f\"Naive Forecast Directional Error: {naive_directional_error:.4f}\")"
   ]
  },
  {
   "cell_type": "markdown",
   "id": "81786fe8-499d-452c-8433-32c2cc7fa10b",
   "metadata": {},
   "source": [
    "# %% [markdown]\n",
    "\n",
    "  ## $R^2$ (Explained Variance)\n",
    " - **Explained Variance** of ica_arima **better** than just pca + arima"
   ]
  },
  {
   "cell_type": "code",
   "execution_count": null,
   "id": "ac865574-a756-4e8e-9ef3-5926359eb791",
   "metadata": {},
   "outputs": [
    {
     "name": "stdout",
     "output_type": "stream",
     "text": [
      "R² Score - ICA ARIMA: -0.0027\n",
      "R² Score - PCA ARIMA: -0.0389\n",
      "R² Score - Naive Forecast: -1.0746\n"
     ]
    }
   ],
   "source": [
    "#%%\n",
    "\n",
    "print(f\"R² Score - ICA ARIMA: {r2_score(df_ret, df_ica_pred):.4f}\")\n",
    "print(f\"R² Score - PCA ARIMA: {r2_score(df_ret, df_pca_pred):.4f}\")\n",
    "print(f\"R² Score - Naive Forecast: {r2_score(df_ret, naive_forecast):.4f}\")"
   ]
  },
  {
   "cell_type": "markdown",
   "id": "647268d4-87e6-4b93-a858-45fb417e5c22",
   "metadata": {},
   "source": [
    "# %% [markdown]\n",
    "\n",
    "  ## R (Pearson Correlation)\n",
    " - **Pearson Correlation** of ica_arima **worse** than pca + arima"
   ]
  },
  {
   "cell_type": "code",
   "execution_count": null,
   "id": "a564d785-6c7f-41a2-8d8c-5f93d8eb05d8",
   "metadata": {},
   "outputs": [
    {
     "name": "stdout",
     "output_type": "stream",
     "text": [
      "Pearson Correlation - ICA ARIMA: 0.0129 (p-value: 0.0711)\n",
      "Pearson Correlation - PCA ARIMA: 0.0297 (p-value: 0.0003)\n",
      "Pearson Correlation - Naive Forecast: -0.0373 (p-value: 1.0000)\n"
     ]
    }
   ],
   "source": [
    "# %%\n",
    "\n",
    "ica_corr, ica_p = pearsonr(df_ret, df_ica_pred, alternative=\"greater\")\n",
    "pca_corr, pca_p = pearsonr(df_ret, df_pca_pred, alternative=\"greater\")\n",
    "naive_corr, naive_p = pearsonr(df_ret, naive_forecast, alternative=\"greater\")\n",
    "\n",
    "print(f\"Pearson Correlation - ICA ARIMA: {ica_corr:.4f} (p-value: {ica_p:.4f})\")\n",
    "print(f\"Pearson Correlation - PCA ARIMA: {pca_corr:.4f} (p-value: {pca_p:.4f})\")\n",
    "print(f\"Pearson Correlation - Naive Forecast: {naive_corr:.4f} (p-value: {naive_p:.4f})\")"
   ]
  },
  {
   "cell_type": "markdown",
   "id": "e3074a49-b5df-46f7-ae12-2577fd894dab",
   "metadata": {},
   "source": [
    "# %% [markdown]\n",
    "\n",
    " ## Mean Absolute Error\n",
    " - Diebold Mariano test shows **Mean Absolute Error** of ica_arima predicitons significantly **better** than pca + arima"
   ]
  },
  {
   "cell_type": "code",
   "execution_count": null,
   "id": "15b73853-15cd-4df0-8bc1-2f4bf1093811",
   "metadata": {},
   "outputs": [
    {
     "name": "stdout",
     "output_type": "stream",
     "text": [
      "Diebold Mariano test statistic, p-value: (np.float64(-9.9677416003629), np.float64(1.2786319782669299e-23))\n"
     ]
    }
   ],
   "source": [
    "#%%\n",
    "\n",
    "print(\"Diebold Mariano test statistic, p-value:\",\n",
    "dm_test(\n",
    "    df_ret.values,\n",
    "    df_ica_pred.values,\n",
    "    df_pca_pred.values,\n",
    "    loss=lambda a, b: abs(a - b),\n",
    "    one_sided=True))"
   ]
  },
  {
   "cell_type": "code",
   "execution_count": null,
   "id": "5bf8ffc3-1df3-4bbe-ba6c-762898ec10b3",
   "metadata": {},
   "outputs": [
    {
     "name": "stdout",
     "output_type": "stream",
     "text": [
      "ICA ARIMA MAE: 0.0338\n",
      "PCA ARIMA MAE: 0.035\n",
      "Naive Forecast MAE: 0.0517\n"
     ]
    }
   ],
   "source": [
    "#%%\n",
    "\n",
    "ica_mae_error = np.abs(df_ret.values - df_ica_pred.values).sum() / len(df_ret)\n",
    "print(f\"ICA ARIMA MAE: {round(float(ica_mae_error), 4)}\")\n",
    "\n",
    "pca_mae_error = np.abs(df_ret.values - df_pca_pred.values).sum() / len(df_ret)\n",
    "print(f\"PCA ARIMA MAE: {round(float(pca_mae_error), 4)}\")\n",
    "\n",
    "naive_mae_error = np.abs(df_ret.values - naive_forecast.values).sum() / len(df_ret)\n",
    "print(f\"Naive Forecast MAE: {round(float(naive_mae_error), 4)}\")"
   ]
  },
  {
   "cell_type": "markdown",
   "id": "5dffcddc-c562-4928-96ca-26da03ab0335",
   "metadata": {},
   "source": [
    "# %% [markdown]\n",
    "\n",
    " ## Mean Squared Error\n",
    " - Diebold Mariano test shows **Mean Squared Error** of ica_arima predicitons significantly **better** than pca + arima"
   ]
  },
  {
   "cell_type": "code",
   "execution_count": null,
   "id": "fd44633d-858f-4c74-9b8c-dff37152fd7d",
   "metadata": {},
   "outputs": [
    {
     "name": "stdout",
     "output_type": "stream",
     "text": [
      "Diebold Mariano test statistic, p-value: (np.float64(-3.7971724258081725), np.float64(7.351027632845069e-05))\n"
     ]
    }
   ],
   "source": [
    "#%%\n",
    "\n",
    "print(\"Diebold Mariano test statistic, p-value:\",\n",
    "dm_test(\n",
    "    df_ret.values,\n",
    "    df_ica_pred.values,\n",
    "    df_pca_pred.values,\n",
    "    loss=lambda a, b: (a - b)**2,\n",
    "    one_sided=True))"
   ]
  },
  {
   "cell_type": "code",
   "execution_count": null,
   "id": "7e94ac53-40ce-4c49-9fa7-384758eb8d81",
   "metadata": {},
   "outputs": [
    {
     "name": "stdout",
     "output_type": "stream",
     "text": [
      "ICA ARIMA MSE: 0.0039\n",
      "PCA ARIMA MSE: 0.0041\n",
      "Naive Forecast MSE: 0.0081\n"
     ]
    }
   ],
   "source": [
    "#%%\n",
    "\n",
    "ica_mse_error = ((df_ret.values - df_ica_pred.values)**2).sum() / len(df_ret)\n",
    "print(f\"ICA ARIMA MSE: {round(float(ica_mse_error), 4)}\")\n",
    "\n",
    "pca_mse_error = ((df_ret.values - df_pca_pred.values)**2).sum() / len(df_ret)\n",
    "print(f\"PCA ARIMA MSE: {round(float(pca_mse_error), 4)}\")\n",
    "\n",
    "naive_mse_error = ((df_ret.values - naive_forecast.values)**2).sum() / len(df_ret)\n",
    "print(f\"Naive Forecast MSE: {round(float(naive_mse_error), 4)}\")"
   ]
  },
  {
   "cell_type": "markdown",
   "id": "9b6d335c-1001-4165-9b71-9660a4a8a6e8",
   "metadata": {},
   "source": [
    "# %% [markdown]\n",
    "\n",
    " ## Comaparison of ARIMA orders\n",
    " - for just ARIMA the AutoARIMA algorithm determined Brownian Noise with order (0, 1, 0) to be the best model of the process\n",
    " way more often than for ica + ARIMA, indicating application of ICA improved the Signal to Noise Ratio"
   ]
  },
  {
   "cell_type": "code",
   "execution_count": null,
   "id": "6fbe2497-2b9e-45e6-a4a4-c6a4727e021e",
   "metadata": {},
   "outputs": [
    {
     "data": {
      "image/png": "[encoded data removed]",
      "text/plain": [
       "<Figure size 1500x500 with 1 Axes>"
      ]
     },
     "metadata": {},
     "output_type": "display_data"
    }
   ],
   "source": [
    "#%%\n",
    "\n",
    "n_train_days = 120\n",
    "tick = \"24h\"\n",
    "ica_orders = pd.read_csv(f\"../data/ica_arma_orders_{tick}_{n_train_days}D.csv\", index_col=0)\n",
    "pca_arima_orders = pd.read_csv(f\"../data/pca_arma_orders_{tick}_{n_train_days}D.csv\", index_col=0)\n",
    "arima_orders = pd.read_csv(f\"../data/arma_orders_{tick}_{n_train_days}D.csv\", index_col=0)\n",
    "orders = pd.concat((\n",
    "    ica_orders.unstack().value_counts().rename(\"ica_arima_orders\"),\n",
    "    pca_arima_orders.unstack().value_counts().rename(\"pca_arima_orders\"),\n",
    "    arima_orders.unstack().value_counts().rename(\"arima_orders\")\n",
    "    ), axis=1, join=\"outer\")\n",
    "\n",
    "orders.iloc[np.argsort(orders.sum(axis=1))[:-15:-1]].plot.bar(figsize=(15, 5))\n",
    "#orders.iloc[np.argsort(orders[\"arima_orders\"].values)[:-30:-1]].plot.bar(figsize=(15, 5))\n",
    "#orders.iloc[np.argsort(orders.sum(axis=1))[::-1]].plot.bar(figsize=(15, 5))\n",
    "plt.xlabel(\"ARIMA order (p, d, q)\")\n",
    "plt.ylabel(\"count\")\n",
    "plt.show();"
   ]
  }
 ],
 "metadata": {
  "language_info": {
   "codemirror_mode": {
    "name": "ipython",
    "version": 3
   },
   "file_extension": ".py",
   "mimetype": "text/x-python",
   "name": "python",
   "nbconvert_exporter": "python",
   "pygments_lexer": "ipython3",
   "version": 3
  }
 },
 "nbformat": 4,
 "nbformat_minor": 2
}
