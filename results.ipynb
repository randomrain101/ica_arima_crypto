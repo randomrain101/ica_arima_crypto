{
 "cells": [
  {
   "cell_type": "code",
   "execution_count": 1,
   "source": [
    "import warnings\n",
    "import seaborn as sns\n",
    "import matplotlib.pyplot as plt\n",
    "import numpy as np\n",
    "import pandas as pd\n",
    "\n",
    "from scipy.stats import ttest_1samp, ttest_ind\n",
    "from scipy.stats import pearsonr\n",
    "\n",
    "\n",
    "def warn(*args, **kwargs):\n",
    "    pass\n",
    "\n",
    "\n",
    "warnings.warn = warn"
   ],
   "outputs": [],
   "metadata": {}
  },
  {
   "cell_type": "code",
   "execution_count": 2,
   "source": [
    "tick = \"15m\"\n",
    "\n",
    "df_bars = pd.read_csv(\n",
    "    f\"../data/ohlc_{tick}_gateio.csv\", index_col=0, parse_dates=True)\n",
    "df_close = df_bars.filter(axis=\"columns\", like=\"close\")\n",
    "df_close.columns = [x.split(\"_\")[0] for x in df_close.columns]\n",
    "\n",
    "tick = \"24h\"\n",
    "df_close = df_close.resample(tick).last()"
   ],
   "outputs": [],
   "metadata": {}
  },
  {
   "cell_type": "code",
   "execution_count": 3,
   "source": [
    "n_train_days = 120\n",
    "df_ica_pred = pd.read_csv(\n",
    "    f\"../data/ica_arma_predictions_{tick}_{n_train_days}D.csv\",\n",
    "    index_col=0,\n",
    "    parse_dates=True)\n",
    "df_arma_pred = pd.read_csv(\n",
    "    f\"../data/arma_predictions_{tick}_{n_train_days}D.csv\",\n",
    "    index_col=0,\n",
    "    parse_dates=True).reindex(df_ica_pred.index)"
   ],
   "outputs": [],
   "metadata": {}
  },
  {
   "cell_type": "code",
   "execution_count": 4,
   "source": [
    "df_ret = df_close.pct_change().fillna(0).reindex(df_arma_pred.index)"
   ],
   "outputs": [],
   "metadata": {}
  },
  {
   "cell_type": "code",
   "execution_count": 5,
   "source": [
    "#\n",
    "# --- Mean Absolute Error ---\n",
    "#\n",
    "ttest_ind(\n",
    "    (df_ica_pred - df_ret).abs().unstack().values, \n",
    "    (df_arma_pred - df_ret).abs().unstack().values,\n",
    "    alternative=\"less\")"
   ],
   "outputs": [
    {
     "output_type": "execute_result",
     "data": {
      "text/plain": [
       "Ttest_indResult(statistic=23.894404297284147, pvalue=1.0)"
      ]
     },
     "metadata": {},
     "execution_count": 5
    }
   ],
   "metadata": {}
  },
  {
   "cell_type": "code",
   "execution_count": 6,
   "source": [
    "#\n",
    "# --- Mean Squared Error ---\n",
    "#\n",
    "ttest_ind((\n",
    "    (df_ret - df_ica_pred)**2).unstack().values,\n",
    "    ((df_ret - df_arma_pred)**2).abs().unstack().values,\n",
    "    alternative=\"less\")"
   ],
   "outputs": [
    {
     "output_type": "execute_result",
     "data": {
      "text/plain": [
       "Ttest_indResult(statistic=2.7116056511512734, pvalue=0.9966503663220891)"
      ]
     },
     "metadata": {},
     "execution_count": 6
    }
   ],
   "metadata": {}
  },
  {
   "cell_type": "code",
   "execution_count": 7,
   "source": [
    "#\n",
    "# --- R (Pearson Correlation) ---\n",
    "#\n",
    "pearsonr(df_ret.unstack(), df_ica_pred.unstack(), alternative=\"greater\")"
   ],
   "outputs": [
    {
     "output_type": "execute_result",
     "data": {
      "text/plain": [
       "PearsonRResult(statistic=0.025380738748157654, pvalue=0.0005389274663743723)"
      ]
     },
     "metadata": {},
     "execution_count": 7
    }
   ],
   "metadata": {}
  },
  {
   "cell_type": "code",
   "execution_count": 8,
   "source": [
    "#\n",
    "# --- directional accuracy (correct sign of returns was predicted) ---\n",
    "#\n",
    "ttest_ind(\n",
    "    (np.sign(df_ret.unstack()) == np.sign(df_ica_pred.unstack())),\n",
    "    (np.sign(df_ret.unstack()) == np.sign(df_arma_pred.unstack())),\n",
    "    alternative=\"greater\")"
   ],
   "outputs": [
    {
     "output_type": "execute_result",
     "data": {
      "text/plain": [
       "Ttest_indResult(statistic=1.1754549978778297, pvalue=0.11991058316562926)"
      ]
     },
     "metadata": {},
     "execution_count": 8
    }
   ],
   "metadata": {}
  }
 ],
 "nbformat": 4,
 "nbformat_minor": 2,
 "metadata": {
  "language_info": {
   "codemirror_mode": {
    "name": "ipython",
    "version": 3
   },
   "file_extension": ".py",
   "mimetype": "text/x-python",
   "name": "python",
   "nbconvert_exporter": "python",
   "pygments_lexer": "ipython3",
   "version": 3
  }
 }
}