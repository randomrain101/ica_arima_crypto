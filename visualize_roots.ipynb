{
 "cells": [
  {
   "cell_type": "code",
   "execution_count": null,
   "metadata": {},
   "outputs": [],
   "source": [
    "import seaborn as sns\n",
    "import matplotlib.pyplot as plt\n",
    "import numpy as np\n",
    "import pandas as pd\n",
    "from joblib import dump, load\n",
    "ica_roots = load(\"../data/ica_roots.joblib\")\n",
    "arima_roots = load(\"../data/arima_roots.joblib\")\n",
    "\n",
    ""
   ]
  },
  {
   "cell_type": "code",
   "execution_count": null,
   "metadata": {},
   "outputs": [],
   "source": [
    "#\n",
    "# --- fitted arima orders ---\n",
    "#\n",
    "n_train_days = 120\n",
    "tick = \"24h\"\n",
    "ica_orders = pd.read_csv(f\"../data/ica_arma_orders_{tick}_{n_train_days}D.csv\", index_col=0)\n",
    "arima_orders = pd.read_csv(f\"../data/arma_orders_{tick}_{n_train_days}D.csv\", index_col=0)\n",
    "orders = pd.concat((\n",
    "    ica_orders.unstack().value_counts().rename(\"ica_arima_orders\"),\n",
    "    arima_orders.unstack().value_counts().rename(\"arima_orders\")\n",
    "    ), axis=1, join=\"inner\")\n",
    "\n",
    "orders.iloc[np.argsort(orders.sum(axis=1))[:-30:-1]].plot.bar(figsize=(15, 5))\n",
    "plt.xlabel(\"ARIMA order (p, d, q)\")\n",
    "plt.ylabel(\"count\")\n",
    "\n",
    ""
   ]
  },
  {
   "cell_type": "code",
   "execution_count": null,
   "metadata": {},
   "outputs": [],
   "source": [
    "ar_roots_ica = pd.DataFrame(ica_roots).applymap(lambda x: x[0]).unstack().explode()**-1\n",
    "ar_roots_ica = pd.DataFrame({\n",
    "    \"real\": ar_roots_ica.map(lambda x: x.real),\n",
    "    \"imag\": ar_roots_ica.map(lambda x: x.imag)\n",
    "    })\n",
    "ica_wave_length = np.arctan(ar_roots_ica[\"imag\"] / ar_roots_ica[\"real\"])\n",
    "#ica_wave_length = 2*np.pi / np.arctan(ar_roots_ica[\"imag\"] / ar_roots_ica[\"real\"])\n",
    "\n",
    "ica_wave_length[(ica_wave_length > 0) & np.isfinite(ica_wave_length.values)].hist(bins=50)\n",
    "plt.show()\n",
    "\n",
    "ar_roots_arima = pd.DataFrame(arima_roots).applymap(lambda x: x[0]).unstack().explode()**-1\n",
    "ar_roots_arima = pd.DataFrame({\n",
    "    \"real\": ar_roots_arima.map(lambda x: x.real),\n",
    "    \"imag\": ar_roots_arima.map(lambda x: x.imag)\n",
    "    })\n",
    "arima_wave_length = np.arctan(ar_roots_arima[\"imag\"] / ar_roots_arima[\"real\"])\n",
    "#arima_wave_length = 2*np.pi / np.arctan(ar_roots_arima[\"imag\"] / ar_roots_arima[\"real\"])\n",
    "\n",
    "arima_wave_length[(arima_wave_length > 0) & np.isfinite(arima_wave_length)].hist(bins=50)\n",
    "plt.show()\n",
    ""
   ]
  },
  {
   "cell_type": "code",
   "execution_count": null,
   "metadata": {},
   "outputs": [],
   "source": [
    "max_range = 1.1\n",
    "#cmax = 250\n",
    "#cmax = 100\n",
    "cmax = None\n",
    "#cmax = 50\n",
    "cmap = \"turbo\"\n",
    "#cmap = None\n",
    "plt.hist2d(\n",
    "    ar_roots_ica[\"real\"].loc[ar_roots_ica[\"imag\"] != 0], \n",
    "    ar_roots_ica[\"imag\"].loc[ar_roots_ica[\"imag\"] != 0],\n",
    "    #cmin=1,\n",
    "    cmax=cmax,\n",
    "    range=[[-max_range, max_range], [0, max_range]],\n",
    "    bins=100,\n",
    "    cmap=cmap);\n",
    "plt.title(\"ica arima roots\")\n",
    "plt.xlabel(\"Real\")\n",
    "plt.ylabel(\"Imag\")\n",
    "plt.show()\n",
    "\n",
    "plt.hist2d(\n",
    "    ar_roots_arima[\"real\"].loc[ar_roots_arima[\"imag\"] != 0], \n",
    "    ar_roots_arima[\"imag\"].loc[ar_roots_arima[\"imag\"] != 0],\n",
    "    #cmin=1,\n",
    "    cmax=cmax,\n",
    "    range=[[-max_range, max_range], [0, max_range]],\n",
    "    bins=100,\n",
    "    cmap=cmap);\n",
    "plt.title(\"arima roots\")\n",
    "plt.xlabel(\"Real\")\n",
    "plt.ylabel(\"Imag\")\n",
    ""
   ]
  },
  {
   "cell_type": "code",
   "execution_count": null,
   "metadata": {},
   "outputs": [],
   "source": [
    "ar_roots_ica[\"real\"].loc[ar_roots_ica[\"imag\"] == 0].hist(bins=50)\n",
    ""
   ]
  },
  {
   "cell_type": "code",
   "execution_count": null,
   "metadata": {},
   "outputs": [],
   "source": [
    "ar_roots_arima[\"real\"].loc[ar_roots_arima[\"imag\"] == 0].hist(bins=50)\n",
    ""
   ]
  },
  {
   "cell_type": "code",
   "execution_count": null,
   "metadata": {},
   "outputs": [],
   "source": [
    ""
   ]
  }
 ],
 "nbformat": 4,
 "nbformat_minor": 2,
 "metadata": {
  "language_info": {
   "codemirror_mode": {
    "name": "ipython",
    "version": 3
   },
   "file_extension": ".py",
   "mimetype": "text/x-python",
   "name": "python",
   "nbconvert_exporter": "python",
   "pygments_lexer": "ipython3",
   "version": 3
  }
 }
}